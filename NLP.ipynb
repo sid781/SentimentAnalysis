{
  "nbformat": 4,
  "nbformat_minor": 0,
  "metadata": {
    "kernelspec": {
      "display_name": "Python 3",
      "language": "python",
      "name": "python3"
    },
    "language_info": {
      "codemirror_mode": {
        "name": "ipython",
        "version": 3
      },
      "file_extension": ".py",
      "mimetype": "text/x-python",
      "name": "python",
      "nbconvert_exporter": "python",
      "pygments_lexer": "ipython3",
      "version": "3.6.6"
    },
    "colab": {
      "name": "NLP.ipynb",
      "provenance": []
    }
  },
  "cells": [
    {
      "cell_type": "markdown",
      "metadata": {
        "id": "ZTGyhnfdhFSi"
      },
      "source": [
        "# Siddhant Vishwakarma (18HS20036)\r\n",
        "### Assignment 2: Sentiment Analysis using LSTM on IMDB Dataset"
      ]
    },
    {
      "cell_type": "markdown",
      "metadata": {
        "id": "-_pyLf9ggypn"
      },
      "source": [
        "### Data Collection & Visualisation"
      ]
    },
    {
      "cell_type": "code",
      "metadata": {
        "_cell_guid": "79c7e3d0-c299-4dcb-8224-4455121ee9b0",
        "_uuid": "d629ff2d2480ee46fbb7e2d37f6b5fab8052498a",
        "id": "N0o_EHKxpP97"
      },
      "source": [
        "from pydrive.auth import GoogleAuth \n",
        "from pydrive.drive import GoogleDrive \n",
        "from google.colab import auth \n",
        "from oauth2client.client import GoogleCredentials \n",
        "  \n",
        "  \n",
        "# Authenticate and create the PyDrive client. \n",
        "auth.authenticate_user() \n",
        "gauth = GoogleAuth() \n",
        "gauth.credentials = GoogleCredentials.get_application_default() \n",
        "drive = GoogleDrive(gauth)"
      ],
      "execution_count": 2,
      "outputs": []
    },
    {
      "cell_type": "code",
      "metadata": {
        "colab": {
          "base_uri": "https://localhost:8080/",
          "height": 195
        },
        "id": "RNy-7hcCqZi8",
        "outputId": "acf36c1f-d60e-408e-be86-983ead472603"
      },
      "source": [
        "link = 'https://drive.google.com/file/d/1YFQduaJ57Lx0EvhStxafhSXKM-3jbIbe/view?usp=sharing'\r\n",
        "  \r\n",
        "import pandas as pd \r\n",
        "  \r\n",
        "# to get the id part of the file \r\n",
        "id = link.split(\"/\")[-2] \r\n",
        "  \r\n",
        "downloaded = drive.CreateFile({'id':id})  \r\n",
        "downloaded.GetContentFile('IMDB Dataset.csv')   \r\n",
        "# Importing the dataset  \r\n",
        "df = pd.read_csv('IMDB Dataset.csv') \r\n",
        "df.head()"
      ],
      "execution_count": 3,
      "outputs": [
        {
          "output_type": "execute_result",
          "data": {
            "text/html": [
              "<div>\n",
              "<style scoped>\n",
              "    .dataframe tbody tr th:only-of-type {\n",
              "        vertical-align: middle;\n",
              "    }\n",
              "\n",
              "    .dataframe tbody tr th {\n",
              "        vertical-align: top;\n",
              "    }\n",
              "\n",
              "    .dataframe thead th {\n",
              "        text-align: right;\n",
              "    }\n",
              "</style>\n",
              "<table border=\"1\" class=\"dataframe\">\n",
              "  <thead>\n",
              "    <tr style=\"text-align: right;\">\n",
              "      <th></th>\n",
              "      <th>review</th>\n",
              "      <th>sentiment</th>\n",
              "    </tr>\n",
              "  </thead>\n",
              "  <tbody>\n",
              "    <tr>\n",
              "      <th>0</th>\n",
              "      <td>One of the other reviewers has mentioned that ...</td>\n",
              "      <td>positive</td>\n",
              "    </tr>\n",
              "    <tr>\n",
              "      <th>1</th>\n",
              "      <td>A wonderful little production. &lt;br /&gt;&lt;br /&gt;The...</td>\n",
              "      <td>positive</td>\n",
              "    </tr>\n",
              "    <tr>\n",
              "      <th>2</th>\n",
              "      <td>I thought this was a wonderful way to spend ti...</td>\n",
              "      <td>positive</td>\n",
              "    </tr>\n",
              "    <tr>\n",
              "      <th>3</th>\n",
              "      <td>Basically there's a family where a little boy ...</td>\n",
              "      <td>negative</td>\n",
              "    </tr>\n",
              "    <tr>\n",
              "      <th>4</th>\n",
              "      <td>Petter Mattei's \"Love in the Time of Money\" is...</td>\n",
              "      <td>positive</td>\n",
              "    </tr>\n",
              "  </tbody>\n",
              "</table>\n",
              "</div>"
            ],
            "text/plain": [
              "                                              review sentiment\n",
              "0  One of the other reviewers has mentioned that ...  positive\n",
              "1  A wonderful little production. <br /><br />The...  positive\n",
              "2  I thought this was a wonderful way to spend ti...  positive\n",
              "3  Basically there's a family where a little boy ...  negative\n",
              "4  Petter Mattei's \"Love in the Time of Money\" is...  positive"
            ]
          },
          "metadata": {
            "tags": []
          },
          "execution_count": 3
        }
      ]
    },
    {
      "cell_type": "markdown",
      "metadata": {
        "id": "oUq6oqj-pP97"
      },
      "source": [
        "### Train-Test splitting"
      ]
    },
    {
      "cell_type": "code",
      "metadata": {
        "colab": {
          "base_uri": "https://localhost:8080/"
        },
        "id": "ZA-BEjrApP98",
        "outputId": "167412c3-9972-4397-d0c5-12feeefa4748"
      },
      "source": [
        "from sklearn.model_selection import train_test_split\n",
        "\n",
        "X,y = df.review.values,df.sentiment.values\n",
        "X_train, X_test, y_train, y_test = train_test_split(X,y)\n",
        "# Check the shape of datasets\n",
        "print(\"Train_shape:\", X_train.shape)\n",
        "print(\"Test_shape:\", X_test.shape)"
      ],
      "execution_count": 4,
      "outputs": [
        {
          "output_type": "stream",
          "text": [
            "Train_shape: (37500,)\n",
            "Test_shape: (12500,)\n"
          ],
          "name": "stdout"
        }
      ]
    },
    {
      "cell_type": "code",
      "metadata": {
        "colab": {
          "base_uri": "https://localhost:8080/"
        },
        "id": "QLJzyPF6xhNu",
        "outputId": "e4227d3d-c67a-4661-a9f8-f6f1838ccc55"
      },
      "source": [
        "X_train"
      ],
      "execution_count": 5,
      "outputs": [
        {
          "output_type": "execute_result",
          "data": {
            "text/plain": [
              "array(['Lame. Lame. Lame. Ultralame. Shall I go on? There is one, I repeat *one* funny scene in this entire, drawn-out, anti-amusing Amateur Hour Special of a film: Fares Fares\\' fat father knocking someone over with his beer gut. That\\'s it. The rest of this shockingly mediocre pile of nothingness consists of the usual trademark bored-looking Swedish \"actors\" delivering dialogue which goes into one ear and out of the other, a banal story, sloppy direction and, well, little else worth mentioning. Nepotistically cast Fares Fares is as charismatic as a chartered accountant and his nose rivals even that of Adrien Brody in terms of sheer ridiculous hugeness. Torkel Petersson should only work with Lasse Spang Olsen. The rest of the cast is, luckily, easily forgettable, whereas Fares\\' humongous, titanic nose will forever haunt me in my dreams.<br /><br />Josef Fares helps ruin Swedish cinema. Don\\'t support him and his nonsense. Jalla Jalla is to comedies what Arnold Schwarzenegger is to character acting, Kopps would have been much more respectable if it had been a no-budget Youtube video, and Zozo was simply the most pretentious, pseudo-touching garbage ever unleashed by a Swedish director. Wake up and smell the roses: Swedish movies can be so much better than this, so stop pretending Fares\\' flicks are worth watching simply because they\\'re \"good to be Swedish\". Please.',\n",
              "       'I have been a huge fan of the original crew of the Enterprise since I was eight years old. I watched all the movies and appreciated each one for what they retained from the old series and for further developing the characters (and the Star Trek universe, in general). Even in \"The Undiscovered Country\" I thought the aging of the characters was well handled and the story worthy of a theatrical release. However, having said that, \"Star Trek V: The Final Frontier\" is easily the worst of the series featuring the original crew. I agree with many that the camaraderie of Kirk, Spock and McCoy is well handled, but the overall script, the direction -- by William Shatner -- and the special effects are not worthy of anything more than a television episode. This is a \"buddy movie\" and, at times, almost unrecognizable as a Star Trek movie. The action sequences are not sustained and therefore, build little or no tension. The dialogue is weak though it does provide for a few laughs, both intended and not-intended. The Klingon\\'s seem thrown in as an afterthought. The whole \"Sha-Ka-Ree\" concept is just silly and Laurence Luckinbill, a fine actor in everything else I\\'ve ever seen him in, boarders on the absurd in this movie. The scene where Sybok conjures up images of Spock\\'s pain and McCoy\\'s pain shatters the image of the characters as we\\'ve known them. Spock would never be party to such stupidity and McCoy, trying to save his father is full of insipid, redundant dialogue and totally wastes DeForest Kelley\\'s acting abilities. The whole scene is wasted and really shows us nothing new and nothing we want to see from these characters. I understand that Shatner didn\\'t have the luxury of working with ILM for the special effects and that the budget for this movie was tight, but that doesn\\'t allow for such a bad story. In some respects, I think this story does fit in with the old series, but the movies, including \"Star Trek: The Motion Picture\" are all much better quality than this. It\\'s a shame that most of the other characters have so few lines and so little to do with most of this movie. The focus on Kirk, McCoy and Spock is nice, but way over used. The old crew really seems to be out of character. I liked the old Klingon General and the sultry Romulan in the bar. I liked some of the humor and the idea that Spock has a half-brother, but that\\'s about it. If this was a TV episode, I\\'d be able to accept a lot of the faults. As a movie, this is just bad, uninspired film making. It\\'s a shame too, because I want this movie to be good. Even if it was the level of \"Star Trek III\" I would be happy, but this movie makes all the other movies in this series seem like works of Shakespeare.',\n",
              "       \"The sects that capitalise on this film are well known for their claim to take the 'message' of the bible without any alteration or extra-biblical influence. The existence of this film is solely due to the fact that there is no such thing.<br /><br />If you want to know what the born-again branch of Christianity were harping on about in the seventies just look up the word 'rapture' in a dictionary of cults and sects. It's quicker than sitting through this waste of celluloid.<br /><br />Poor acting, uneven sound quality and a script that could just as easily have been written by Jack T Chick (paranoid Christian conspiracy theorist for those not familiar with the Evangelical scene). You could not really put this into the 'so bad it's good' category so its only audience are either those with a pamphlet collection looking to branch out or the extremely paranoid.\",\n",
              "       ...,\n",
              "       '\"Visitor Q\" is a failed attempt at black comedy which focuses on what might be the world\\'s most dysfunctional family including physical abuse from beatings to murder to incest to sodomy to necrophilia to a lactating mom who nurses her husband and adult daughter, etc. The film is so outrageous it garnered some critical praise and established a small cult following. However, with home video quality and a slapdash production, \"Visitor Q\" just doesn\\'t hold up even as a curiosity. Genitals are blurred out and sanitary appliances clearly visible, make-up is awful, and everything else is amateurish at best. A waste of time. (C-)',\n",
              "       'As a big-time Prince fan of the last three to four years, I really can\\'t believe I\\'ve only just got round to watching \"Purple Rain\". The brand new 2-disc anniversary Special Edition led me to buy it. Wow, I was really looking forward to watching it, but I wasn\\'t prepared for just how electric it actually is. Prince\\'s musical performances throughout the movie are nothing short of astounding - he REALLY has the moves in this one. I am very familiar (from repeated listens) with the classic \"Purple Rain\" album and all its songs, but to see them in the context of the movie completely alters your perception of the tunes and lyrics - like COMPUTER BLUE, THE BEAUTIFUL ONES, WHEN DOVES CRY and PURPLE RAIN itself. There is something indescribably hypnotising about the scenes where Prince and The Revolution perform. The closing songs BABY I\\'M A STAR and I WOULD DIE FOR U show how much energy and sheer talent Prince was brimming with in his mid-20s (he\\'s overflowing!), it blew me away. It even makes Michael Jackson seem inanimate even in his peak years.<br /><br />Prince shows you how to win the girl of your dreams - drive her to a lake, make her jump in, then drive off - absolutely hilarious stuff in hindsight.<br /><br />Some of the scenes are very 1980s and unintentionally hilarious but this adds to the film\\'s overall charm. Morris Day is the coolest cat on the block (and hilarious), and when his group The Time perform THE BIRD you get to see Morris Day and Jerome Benton light up the stage Minneapolis funk style - I love their dancing in this bit, and how Benton provides Morris with a mirror mid-performance.<br /><br />I already can\\'t wait to watch it again, I really can\\'t! Extras are terrific - particularly seeing a young Eddie Murphy pre-Beverly Hills Cop admit he is a \"Prince groupie\".',\n",
              "       'This movie was made in Hungary i think. anyway,the countryside is gorgeous,the people who play the farming folks were totally fascinating. their horsemanship is awesome. I got more into the native people, the farm life, and how heroic they were trying to hide Brady from the evil Nazis who where looking for these parachutists. They even sacrificed their life in several instances. the young orphan lad that Brady befriends was a sweet kid. you will marvel at the riding i think, and the action of trying to evade the Nazis. it is entertaining and comic in some spots and very tragic in others. Ladies have hankies handy, as you will be devastated at the end. i own it, and have watched it several times. in other words, not just a one time around flick. its a keeper....'],\n",
              "      dtype=object)"
            ]
          },
          "metadata": {
            "tags": []
          },
          "execution_count": 5
        }
      ]
    },
    {
      "cell_type": "code",
      "metadata": {
        "colab": {
          "base_uri": "https://localhost:8080/"
        },
        "id": "VBcowrIaxoIv",
        "outputId": "0e514c55-26f4-4719-dc25-f9fde52dbfa2"
      },
      "source": [
        "y_train"
      ],
      "execution_count": 6,
      "outputs": [
        {
          "output_type": "execute_result",
          "data": {
            "text/plain": [
              "array(['negative', 'negative', 'negative', ..., 'negative', 'positive',\n",
              "       'positive'], dtype=object)"
            ]
          },
          "metadata": {
            "tags": []
          },
          "execution_count": 6
        }
      ]
    },
    {
      "cell_type": "markdown",
      "metadata": {
        "id": "yqZ-Y9kHpP98"
      },
      "source": [
        "### Analysing of sentiment"
      ]
    },
    {
      "cell_type": "code",
      "metadata": {
        "colab": {
          "base_uri": "https://localhost:8080/",
          "height": 268
        },
        "id": "FWGDxevZpP98",
        "outputId": "b0d4c05f-aac8-496f-acb7-719bafb795e8"
      },
      "source": [
        "import numpy as np \n",
        "import seaborn as sns\n",
        "import matplotlib.pyplot as plt\n",
        "\n",
        "sns.set()\n",
        "# Representaion of sentiments into bar gaph\n",
        "count = pd.Series(y_train).value_counts()\n",
        "x_labels=np.array(['negative','positive'])\n",
        "sns.barplot(x=x_labels,y=count.values)\n",
        "plt.show()"
      ],
      "execution_count": 7,
      "outputs": [
        {
          "output_type": "display_data",
          "data": {
            "image/png": "[encoded data removed]",
            "text/plain": [
              "<Figure size 432x288 with 1 Axes>"
            ]
          },
          "metadata": {
            "tags": []
          }
        }
      ]
    },
    {
      "cell_type": "markdown",
      "metadata": {
        "id": "dlc-55eyun-6"
      },
      "source": [
        "### Preprocessing"
      ]
    },
    {
      "cell_type": "code",
      "metadata": {
        "id": "oaHC257c0bqW"
      },
      "source": [
        "import re\r\n",
        "from collections import Counter\r\n",
        "from string import punctuation\r\n",
        "\r\n",
        "def preprocess_string(s):\r\n",
        "    # Remove all non-word characters (everything except numbers and letters)\r\n",
        "    s = re.sub(r\"[^\\w\\s]\", '', s)\r\n",
        "    # Replace all runs of whitespaces with no space\r\n",
        "    s = re.sub(r\"\\s+\", '', s)\r\n",
        "    # replace digits with no space\r\n",
        "    s = re.sub(r\"\\d\", '', s)\r\n",
        "\r\n",
        "    return s\r\n",
        "\r\n",
        "def onehot(X_train):\r\n",
        "  universe = []\r\n",
        "  \r\n",
        "  for sentence in X_train:\r\n",
        "    for word in sentence.lower().split():\r\n",
        "        word = preprocess_string(word)\r\n",
        "        if word not in punctuation:\r\n",
        "            universe.append(word)\r\n",
        "\r\n",
        "  corpus = Counter(universe)\r\n",
        "  # sorting on the basis of most common words\r\n",
        "  corpus_sorted = sorted(corpus,key=corpus.get,reverse=True)[:1000]\r\n",
        "  # creating a dict\r\n",
        "  vocab = {w:i+1 for i,w in enumerate(corpus_sorted)}\r\n",
        "  return vocab"
      ],
      "execution_count": 8,
      "outputs": []
    },
    {
      "cell_type": "code",
      "metadata": {
        "colab": {
          "base_uri": "https://localhost:8080/"
        },
        "id": "BnkMRmS02m7v",
        "outputId": "6471e0a7-c9a2-4804-95a3-a2f1f6c28b73"
      },
      "source": [
        "vocab=onehot(X_train)\r\n",
        "len(vocab)"
      ],
      "execution_count": 9,
      "outputs": [
        {
          "output_type": "execute_result",
          "data": {
            "text/plain": [
              "1000"
            ]
          },
          "metadata": {
            "tags": []
          },
          "execution_count": 9
        }
      ]
    },
    {
      "cell_type": "markdown",
      "metadata": {
        "id": "dnsRWT1JpP99"
      },
      "source": [
        "### Tokenization"
      ]
    },
    {
      "cell_type": "code",
      "metadata": {
        "colab": {
          "base_uri": "https://localhost:8080/"
        },
        "id": "QcsGMch8pP99",
        "outputId": "8bdc2aed-f875-4bd5-b021-979607b401f7"
      },
      "source": [
        "def tokenize(X_train,y_train,X_test,y_test):\n",
        "  final_train, final_test = [],[]\n",
        "  for sentence in X_train:\n",
        "          final_train.append([vocab[preprocess_string(word)] \n",
        "                              for word in sentence.lower().split() \n",
        "                              if preprocess_string(word) in vocab.keys()])\n",
        "  for sentence in X_test:\n",
        "          final_test.append([vocab[preprocess_string(word)] \n",
        "                              for word in sentence.lower().split() \n",
        "                              if preprocess_string(word) in vocab.keys()])\n",
        "          \n",
        "  encoded_train = [1 if label =='positive' else 0 for label in y_train]  \n",
        "  encoded_test = [1 if label =='positive' else 0 for label in y_test] \n",
        "  return (np.array(final_train), \n",
        "          np.array(encoded_train), \n",
        "          np.array(final_test), \n",
        "          np.array(encoded_test))\n",
        "\n",
        "X_train,y_train,X_test,y_test = tokenize(X_train,y_train,X_test,y_test)"
      ],
      "execution_count": 10,
      "outputs": [
        {
          "output_type": "stream",
          "text": [
            "/usr/local/lib/python3.7/dist-packages/ipykernel_launcher.py:14: VisibleDeprecationWarning: Creating an ndarray from ragged nested sequences (which is a list-or-tuple of lists-or-tuples-or ndarrays with different lengths or shapes) is deprecated. If you meant to do this, you must specify 'dtype=object' when creating the ndarray\n",
            "  \n",
            "/usr/local/lib/python3.7/dist-packages/ipykernel_launcher.py:16: VisibleDeprecationWarning: Creating an ndarray from ragged nested sequences (which is a list-or-tuple of lists-or-tuples-or ndarrays with different lengths or shapes) is deprecated. If you meant to do this, you must specify 'dtype=object' when creating the ndarray\n",
            "  app.launch_new_instance()\n"
          ],
          "name": "stderr"
        }
      ]
    },
    {
      "cell_type": "code",
      "metadata": {
        "colab": {
          "base_uri": "https://localhost:8080/"
        },
        "id": "0Ur-jT8b5PaT",
        "outputId": "57b9fa2c-f32d-4bcd-8a0e-88cf2abdd4bc"
      },
      "source": [
        "X_train"
      ],
      "execution_count": 11,
      "outputs": [
        {
          "output_type": "execute_result",
          "data": {
            "text/plain": [
              "array([list([853, 853, 853, 9, 138, 20, 47, 6, 28, 9, 28, 152, 130, 7, 10, 414, 542, 305, 4, 2, 19, 357, 277, 127, 15, 24, 174, 8, 1, 350, 4, 10, 4, 4, 1, 633, 151, 404, 61, 261, 81, 28, 3, 45, 4, 1, 78, 2, 68, 462, 3, 73, 116, 324, 269, 177, 6, 14, 14, 2, 3, 24, 54, 11, 4, 7, 4, 652, 139, 60, 164, 15, 1, 350, 4, 1, 177, 6, 714, 77, 69, 7, 53, 12, 448, 87, 89, 3, 24, 6, 5, 48, 6, 5, 109, 111, 58, 25, 74, 71, 51, 43, 8, 67, 74, 2, 386, 3, 13, 319, 1, 86, 120, 32, 2, 173, 57, 3, 1, 91, 66, 26, 37, 71, 123, 70, 10, 37, 585, 23, 269, 144, 319, 85, 487, 49, 5, 26, 601]),\n",
              "       list([9, 25, 74, 2, 618, 315, 4, 1, 207, 854, 4, 1, 232, 9, 13, 150, 169, 9, 280, 31, 1, 91, 3, 248, 28, 16, 48, 34, 36, 1, 169, 219, 3, 16, 1, 101, 3, 1, 336, 7, 793, 54, 7, 1, 665, 9, 194, 1, 4, 1, 101, 13, 73, 3, 1, 68, 4, 2, 745, 188, 251, 296, 11, 336, 1, 452, 6, 714, 1, 244, 4, 1, 219, 1, 207, 854, 9, 995, 15, 104, 11, 1, 4, 3, 6, 73, 18, 1, 421, 233, 1, 462, 32, 976, 3, 1, 305, 287, 23, 21, 4, 229, 51, 70, 2, 681, 393, 10, 6, 2, 17, 3, 30, 218, 210, 14, 2, 336, 17, 1, 221, 837, 23, 21, 3, 116, 40, 55, 1, 404, 6, 824, 153, 8, 121, 16, 2, 161, 949, 196, 3, 1, 297, 7, 14, 33, 1, 213, 6, 39, 634, 3, 2, 484, 292, 7, 270, 324, 192, 120, 105, 89, 7, 20, 1, 7, 10, 17, 1, 130, 114, 57, 4, 3, 1, 4, 1, 101, 14, 589, 94, 58, 107, 26, 5, 136, 3, 258, 5, 550, 24, 357, 6, 380, 4, 404, 3, 434, 111, 1, 213, 130, 6, 985, 3, 62, 252, 171, 157, 165, 3, 157, 72, 178, 5, 64, 36, 128, 101, 9, 372, 11, 147, 25, 1, 4, 784, 15, 16, 1, 305, 287, 3, 11, 1, 398, 16, 10, 17, 13, 18, 11, 148, 16, 136, 2, 83, 68, 7, 46, 9, 102, 10, 68, 121, 7, 15, 1, 169, 219, 18, 1, 91, 567, 336, 1, 438, 23, 31, 71, 123, 482, 70, 10, 29, 2, 873, 11, 86, 4, 1, 78, 101, 25, 37, 161, 405, 3, 37, 116, 5, 80, 15, 86, 4, 10, 17, 1, 20, 3, 6, 322, 18, 98, 127, 321, 1, 169, 854, 62, 181, 5, 26, 45, 4, 109, 9, 413, 1, 169, 793, 3, 1, 7, 1, 9, 413, 46, 4, 1, 458, 3, 1, 313, 11, 44, 2, 18, 174, 42, 8, 43, 10, 13, 2, 240, 393, 442, 26, 457, 5, 2, 162, 4, 1, 14, 2, 17, 10, 6, 39, 83, 19, 255, 29, 2, 873, 99, 85, 9, 178, 10, 17, 5, 26, 49, 54, 43, 8, 13, 1, 691, 4, 336, 9, 58, 26, 673, 18, 10, 17, 158, 31, 1, 78, 91, 7, 10, 219, 297, 38, 492, 4]),\n",
              "       list([1, 11, 20, 10, 19, 23, 73, 589, 16, 63, 5, 186, 1, 737, 4, 1, 201, 97, 40, 1, 4, 10, 19, 6, 670, 5, 1, 187, 11, 47, 6, 55, 136, 12, 43, 22, 178, 5, 117, 48, 1, 4, 65, 20, 42, 7, 1, 39, 159, 57, 1, 660, 7, 2, 4, 3, 29, 70, 141, 10, 433, 4, 12, 323, 111, 440, 482, 3, 2, 233, 11, 96, 39, 14, 714, 25, 74, 423, 32, 686, 16, 142, 21, 15, 1, 130, 22, 96, 21, 62, 263, 10, 81, 1, 37, 83, 29, 49, 37, 29, 60, 312, 23, 354, 142, 15, 2, 272, 5, 45, 40, 1, 537]),\n",
              "       ...,\n",
              "       list([6, 2, 558, 30, 317, 209, 61, 20, 48, 231, 26, 1, 86, 237, 567, 36, 5, 577, 5, 5, 5, 5, 2, 35, 41, 643, 3, 551, 549, 1, 19, 6, 37, 8, 46, 3, 2, 391, 956, 188, 15, 343, 386, 482, 3, 2, 355, 39, 148, 57, 54, 14, 2, 23, 45, 3, 659, 6, 374, 3, 270, 324, 6, 30, 115, 2, 433, 4, 59]),\n",
              "       list([14, 2, 315, 4, 1, 234, 290, 5, 676, 150, 9, 62, 172, 257, 192, 60, 39, 183, 5, 144, 1, 165, 305, 69, 5, 760, 8, 9, 13, 62, 272, 971, 5, 144, 8, 18, 9, 275, 16, 39, 84, 8, 154, 6, 689, 352, 472, 1, 17, 23, 157, 328, 4, 27, 62, 44, 1, 7, 10, 28, 9, 224, 52, 36, 15, 1, 345, 3, 31, 29, 697, 18, 5, 64, 94, 7, 1, 4, 1, 17, 320, 122, 4, 1, 3, 38, 1, 300, 508, 50, 3, 400, 47, 6, 137, 42, 1, 134, 114, 3, 1, 1, 697, 947, 140, 2, 336, 3, 9, 58, 776, 16, 118, 84, 71, 3, 615, 13, 15, 7, 24, 230, 8, 69, 242, 8, 54, 158, 476, 297, 54, 7, 24, 12, 252, 22, 84, 5, 1, 253, 4, 122, 41, 5, 2, 93, 41, 7, 90, 124, 403, 582, 511, 7, 12, 46, 4, 1, 134, 23, 52, 168, 3, 582, 18, 10, 5, 1, 95, 421, 262, 6, 1, 20, 1, 3, 582, 3, 50, 24, 538, 1, 59, 1, 22, 75, 5, 64, 262, 3, 694, 57, 1, 941, 424, 9, 110, 63, 7, 10, 225, 3, 84, 15, 2, 12, 9, 466, 172, 856, 5, 103, 8, 175, 9, 62, 172, 23, 566, 301, 2, 184, 938, 27, 6, 2]),\n",
              "       list([10, 17, 13, 92, 7, 9, 102, 6, 82, 35, 288, 1, 65, 434, 63, 6, 9, 183, 51, 81, 1, 82, 1, 119, 3, 84, 34, 65, 258, 5, 36, 1, 460, 35, 114, 272, 16, 128, 34, 54, 63, 119, 7, 425, 1, 184, 11, 13, 2, 536, 22, 77, 30, 1, 9, 102, 3, 1, 221, 4, 258, 5, 1, 8, 6, 428, 3, 754, 7, 46, 3, 52, 7, 383, 25, 14, 22, 77, 26, 30, 1, 129, 9, 198, 8, 3, 25, 280, 8, 425, 218, 7, 78, 669, 21, 39, 2, 28, 59, 182, 505, 29, 2])],\n",
              "      dtype=object)"
            ]
          },
          "metadata": {
            "tags": []
          },
          "execution_count": 11
        }
      ]
    },
    {
      "cell_type": "code",
      "metadata": {
        "colab": {
          "base_uri": "https://localhost:8080/"
        },
        "id": "-793iSa_5PQu",
        "outputId": "ba4211c0-9322-4e5f-b8d9-4c4e393e96a8"
      },
      "source": [
        "X_test"
      ],
      "execution_count": 12,
      "outputs": [
        {
          "output_type": "execute_result",
          "data": {
            "text/plain": [
              "array([list([9, 205, 10, 19, 16, 1, 52, 88, 59, 425, 150, 598, 3, 13, 57, 7, 33, 8, 6, 76, 3, 71, 123, 70, 22, 202, 25, 5, 102, 66, 8, 581, 5, 69, 66, 9, 407, 2, 22, 543, 470, 4, 1, 240, 40, 122, 201, 526, 42, 1, 112, 3, 1, 129, 61, 22, 702, 483, 97]),\n",
              "       list([10, 6, 33, 17, 149, 11, 22, 117, 11, 192, 2, 162, 4, 22, 1, 59, 8, 58, 25, 591, 5, 327, 10, 711, 43, 22, 87, 38, 90, 22, 454, 38, 10, 17, 43, 1, 419, 6, 1, 78, 90, 22, 77, 52, 236, 38, 8, 29, 14, 561, 14, 12, 149, 43, 316, 126, 886, 10, 9, 507, 22, 38, 49, 16, 22, 27, 6, 179, 49, 200, 27, 1, 614, 131, 6, 2, 52, 770, 791, 29, 183, 1, 633, 72, 117, 37, 73, 36, 168, 29, 183, 2, 725, 4, 370, 707, 4, 578, 3, 3, 2, 3, 2, 673, 12, 7, 10, 419, 1, 460, 6, 1, 61, 681, 14, 33, 15, 473, 252, 4, 260, 647, 57, 7, 28, 4, 128, 252, 3, 485, 8, 31, 15, 2, 116, 331, 36, 24, 108, 3, 1, 12, 29, 21, 2, 193, 398, 17, 18, 8, 126, 5, 994, 2, 176, 49, 818, 4, 1, 747, 15, 46, 322, 3, 700, 5, 331, 8, 29, 168, 18, 9, 160, 11, 111, 6, 402, 24, 633, 3, 145, 15, 2, 4, 6, 5, 263, 8, 2, 225, 3, 1, 740, 6, 2, 770, 460, 240, 12, 7, 4, 31, 29, 1, 17, 252, 29, 737, 52, 659, 681, 6, 33, 4, 1, 2, 49, 98, 5, 82, 8, 79, 868, 46, 30, 1, 59, 386, 786, 1, 83, 409, 5, 664, 7, 2, 386, 5, 63, 312, 10, 121, 21, 297, 30, 31, 637, 61, 6, 2, 225, 12, 43, 781, 105, 91, 156, 90, 22, 117, 50, 5, 103, 10, 28, 341]),\n",
              "       list([804, 948, 123, 70, 27, 395, 303, 7, 185, 5, 749, 14, 517, 32, 838, 4, 304, 10, 973, 4, 66, 856, 400, 2, 4, 168, 135, 265, 439, 1, 458, 11, 804, 33, 16, 24, 88, 305, 27, 669, 36, 2, 5, 18, 27, 1, 35, 205, 10, 754, 7, 40, 675, 27, 66, 51, 15, 1, 70, 3, 263, 299, 455, 2, 161, 185, 5, 749, 804, 196, 14, 2, 209, 3, 33, 12, 185, 5, 749, 97, 49, 77, 11, 1, 15, 63, 410, 304, 10, 14, 2, 14, 73, 14, 209, 15, 2, 907, 467, 2, 51, 70, 94, 1, 380, 982, 4, 10, 3, 14, 985, 7, 587, 804, 447, 77, 63, 498, 15, 258, 5, 137, 11, 13, 107, 423, 32, 3, 804, 185, 5, 749, 14, 2, 35, 2, 32, 262, 7, 1, 193, 3, 204, 124, 1, 941, 30, 311, 7, 323, 804, 36, 941, 24, 4, 15, 89, 141, 3, 100, 1, 77, 28, 452, 311, 27, 5, 75, 89, 7, 1, 69, 18, 43, 6, 136, 2, 754, 132, 121, 1, 375, 89, 143, 44, 137, 324, 7, 16, 133, 343, 20, 24, 250, 2, 176, 800, 753, 4, 1, 932, 18, 27, 148, 64, 1, 11, 15, 89, 3, 89, 15, 2, 182, 24, 415, 7, 61, 2, 11, 33, 439, 4, 766, 24, 335, 150, 4, 12, 439, 753, 4, 10, 216, 3, 143, 5, 749, 1, 6, 543, 24, 37, 27, 211, 155, 648, 1, 115, 11, 439, 66, 212, 57, 15, 6, 478, 332, 169, 326, 4, 304, 3, 24, 911, 4, 25, 39, 713, 5, 89, 156, 648, 8, 14, 2, 346, 66, 2, 51, 648, 175, 56, 6, 2, 24, 5, 2, 11, 1, 323, 133, 753, 966, 2, 4, 5, 41, 217, 14, 2, 464, 56, 285, 2, 109, 35, 7, 41, 15, 256, 27, 6, 55, 317, 21, 60, 494, 5, 18, 79, 2, 30, 1, 12, 185, 5, 749, 868, 804, 7, 24, 86, 217, 1, 282, 16, 255, 10, 17, 181, 27, 15, 3, 552, 11, 27, 411, 1, 207, 233, 11, 197, 67, 16, 713, 1, 303, 7, 24, 198, 308, 32, 258, 5, 177, 7, 1, 417, 217, 4, 66, 856, 1, 775, 141, 3, 1, 17, 303, 5, 804, 24, 3, 27, 194, 11, 34, 96, 10, 345, 27, 24, 4, 66, 856, 449, 20, 24, 5, 80, 137, 22, 66, 60, 80, 50, 316, 902, 924, 804, 2, 233, 42, 2, 4, 85, 27, 205, 116, 5, 24, 7, 136, 33, 14, 2, 7, 185, 5, 749, 804, 148, 37, 71, 24, 14, 27, 8, 16, 1, 244, 10, 19, 15, 33, 655, 112, 121, 14, 71, 5, 24, 754, 14, 8, 121, 1, 22, 117, 2, 19, 42, 2, 6, 7, 50, 2, 130, 30, 1, 6, 249, 37, 22, 543, 811, 1, 606, 60, 1, 1, 4, 982, 14, 35, 1, 620, 18, 6, 7, 612, 2, 36, 99, 6, 33, 782, 3, 27, 148, 25, 5, 33, 24, 6, 1, 636, 15, 185, 5, 749, 6, 1, 11, 1, 101, 93, 37, 804, 148, 320, 36, 1, 16, 51, 70, 2, 161, 256, 344, 1, 17, 14, 478, 216, 64, 89, 14, 1, 754, 4, 144, 24, 478, 458, 3, 903, 804, 14, 1, 95, 3, 28, 4, 29, 676, 1, 835, 6, 84, 136, 2, 4, 615, 96, 45, 136, 33, 4, 2, 209, 42, 1, 60, 791, 4, 185, 5, 749, 6, 880, 19, 556]),\n",
              "       ...,\n",
              "       list([10, 6, 1, 115, 17, 192, 212, 600, 7, 2, 203, 133, 21, 60, 6, 10, 1, 115, 17, 4, 29, 98, 173, 833, 5, 19, 8, 13, 27, 741, 8, 788, 151, 35, 65, 126, 318, 378, 27, 741, 8, 7, 1, 151, 198, 3, 321, 1, 151, 146, 742, 14, 63, 742, 7, 1, 19, 79, 1, 151, 65, 99, 788, 255, 8, 297, 71, 51, 38, 2, 386, 8, 6, 210, 11, 6, 830, 2, 23, 2, 161, 188, 16, 463, 50, 2, 29, 74, 232, 192, 105, 8]),\n",
              "       list([6, 7, 53, 271, 1, 115, 17, 4, 819, 7, 53, 271, 8, 6, 28, 4, 1, 115, 91, 120, 92, 7, 29, 609, 11, 10, 17, 148, 25, 11, 104, 796, 3, 200, 251, 11, 71, 12, 12, 6, 279, 175, 2, 289, 36, 2, 173, 35, 121, 8, 175, 100, 3, 44, 279, 175, 124, 2, 502, 28, 12, 12, 10, 6, 1, 86, 561, 3, 992, 91, 11, 192, 105, 10, 332, 100, 301, 61, 13, 616, 3, 298, 61, 54, 7, 11, 510, 9, 406, 64, 2, 17, 61, 6, 37, 545, 5, 53, 532, 3, 53, 12, 9, 87, 117, 132, 6, 730, 242, 36, 1, 300, 61, 72, 25, 3, 23, 255, 365, 973, 424, 616, 91, 38, 3, 12, 12, 1, 68, 6, 300, 3, 71, 5, 1, 4, 61, 9, 99, 58, 38, 5, 26, 2, 170, 4, 250, 61, 171, 5, 842, 94, 3, 4, 260, 63, 6, 37, 590, 7, 10, 17, 4, 260, 47, 200, 97, 7, 122, 119, 3, 8, 139, 26, 2, 199, 1, 358, 3, 29, 57, 5, 94, 5, 14, 8, 6, 590, 7, 10, 17, 12, 12, 547, 143, 5, 1, 6, 2, 68, 4, 199, 1, 300, 819, 4, 3, 1, 114, 1, 216, 904, 1, 253, 196, 372, 248, 78, 196, 338, 5, 43, 34, 96, 110, 248, 78, 16, 14, 250, 513, 3, 1, 935, 61, 291, 12, 6, 502, 7, 1, 6, 3, 23, 1, 697, 23, 502, 9, 259, 38, 1, 274, 3, 80, 12, 12, 421, 2, 211, 64, 16, 245, 35, 126, 7, 1, 3, 3, 9, 412, 80, 12, 12, 138, 64, 10, 39, 25, 5, 125, 28, 12]),\n",
              "       list([4, 31, 1, 91, 7, 1, 488, 4, 91, 9, 172, 794, 277, 185, 3, 595, 9, 178, 5, 4, 40, 5, 973, 11, 345, 19, 471, 707, 4, 555, 25, 74, 651, 81, 95, 42, 547, 5, 749, 15, 137, 883, 132, 21, 263, 122, 293, 81, 255, 2, 973, 4, 8, 369, 36, 720, 302, 132, 159, 16, 2, 505, 11, 60, 16, 1, 4, 739, 124, 2, 283, 4, 3, 46, 13, 1, 233, 16, 1, 308, 4, 37, 11, 128, 422, 8, 67, 5, 26, 222, 175, 3, 10, 59, 222, 50, 22, 212, 185, 5, 8, 1, 60, 282, 10, 19, 6, 5, 118, 124, 18, 43, 316, 93, 2, 505, 3, 7, 8, 123, 25, 41, 51, 70, 10, 3, 51, 392, 70, 10, 43, 22, 178, 5, 12, 778, 63, 778, 82, 3, 155, 48, 43, 278, 12, 9, 107, 194, 9, 58, 120, 359, 1, 207, 127, 97, 78, 19, 18, 10, 58, 26, 1, 28, 5, 212, 7, 276, 5, 8])],\n",
              "      dtype=object)"
            ]
          },
          "metadata": {
            "tags": []
          },
          "execution_count": 12
        }
      ]
    },
    {
      "cell_type": "code",
      "metadata": {
        "colab": {
          "base_uri": "https://localhost:8080/"
        },
        "id": "0Oh03pHa5PId",
        "outputId": "38054cda-e5dc-4cea-eb57-d9f36ec62681"
      },
      "source": [
        "y_train"
      ],
      "execution_count": 13,
      "outputs": [
        {
          "output_type": "execute_result",
          "data": {
            "text/plain": [
              "array([0, 0, 0, ..., 0, 1, 1])"
            ]
          },
          "metadata": {
            "tags": []
          },
          "execution_count": 13
        }
      ]
    },
    {
      "cell_type": "code",
      "metadata": {
        "colab": {
          "base_uri": "https://localhost:8080/"
        },
        "id": "LtkTFu8D5O94",
        "outputId": "73d334cf-6914-4390-e46f-932de0bfef49"
      },
      "source": [
        "y_test"
      ],
      "execution_count": 14,
      "outputs": [
        {
          "output_type": "execute_result",
          "data": {
            "text/plain": [
              "array([1, 1, 0, ..., 1, 1, 0])"
            ]
          },
          "metadata": {
            "tags": []
          },
          "execution_count": 14
        }
      ]
    },
    {
      "cell_type": "markdown",
      "metadata": {
        "id": "mGE9wKJ8pP9-"
      },
      "source": [
        "### Analysing review length"
      ]
    },
    {
      "cell_type": "code",
      "metadata": {
        "colab": {
          "base_uri": "https://localhost:8080/"
        },
        "id": "KNawNZ8W3d6N",
        "outputId": "a6195602-cf96-467b-944f-4be5cba83423"
      },
      "source": [
        "rev_len = [len(i) for i in X_train]\r\n",
        "pd.Series(rev_len).describe()"
      ],
      "execution_count": 15,
      "outputs": [
        {
          "output_type": "execute_result",
          "data": {
            "text/plain": [
              "count    37500.000000\n",
              "mean       173.786800\n",
              "std        124.101935\n",
              "min          0.000000\n",
              "25%         98.000000\n",
              "50%        134.000000\n",
              "75%        211.000000\n",
              "max       1497.000000\n",
              "dtype: float64"
            ]
          },
          "metadata": {
            "tags": []
          },
          "execution_count": 15
        }
      ]
    },
    {
      "cell_type": "code",
      "metadata": {
        "colab": {
          "base_uri": "https://localhost:8080/",
          "height": 268
        },
        "id": "mrOBdeHOpP9-",
        "outputId": "fc250c98-cd89-498b-b53a-2da9ff4b82e5"
      },
      "source": [
        "pd.Series(rev_len).hist()\n",
        "plt.show()"
      ],
      "execution_count": 16,
      "outputs": [
        {
          "output_type": "display_data",
          "data": {
            "image/png": "[encoded data removed]",
            "text/plain": [
              "<Figure size 432x288 with 1 Axes>"
            ]
          },
          "metadata": {
            "tags": []
          }
        }
      ]
    },
    {
      "cell_type": "code",
      "metadata": {
        "colab": {
          "base_uri": "https://localhost:8080/"
        },
        "id": "jDM4CyT27EcH",
        "outputId": "dd52e495-240f-4221-cf2f-cb2b49951e22"
      },
      "source": [
        "pad_max=np.quantile(rev_len, 0.999)\r\n",
        "pad_max"
      ],
      "execution_count": 17,
      "outputs": [
        {
          "output_type": "execute_result",
          "data": {
            "text/plain": [
              "783.0059999999794"
            ]
          },
          "metadata": {
            "tags": []
          },
          "execution_count": 17
        }
      ]
    },
    {
      "cell_type": "markdown",
      "metadata": {
        "id": "0lWuWh48pP9_"
      },
      "source": [
        "### Padding"
      ]
    },
    {
      "cell_type": "markdown",
      "metadata": {
        "id": "tujVld8tpP9_"
      },
      "source": [
        "Now we will pad each of the sequence to max length "
      ]
    },
    {
      "cell_type": "code",
      "metadata": {
        "id": "HfQJSw6kpP9_"
      },
      "source": [
        "def padding(sentences, seq_len):\n",
        "    features = np.zeros((len(sentences), seq_len),dtype=int)\n",
        "    for i, review in enumerate(sentences):\n",
        "        if len(review) != 0:\n",
        "            features[i, -len(review):] = np.array(review)[:seq_len]\n",
        "    return features"
      ],
      "execution_count": 18,
      "outputs": []
    },
    {
      "cell_type": "code",
      "metadata": {
        "id": "1HnW4zO4pP-A"
      },
      "source": [
        "# maximum padding length is 800 \n",
        "# since only 0.1% of the reviews are above this length\n",
        "X_train_pad = padding(X_train, 800)\n",
        "X_test_pad = padding(X_test, 800)\n"
      ],
      "execution_count": 19,
      "outputs": []
    },
    {
      "cell_type": "markdown",
      "metadata": {
        "id": "tl5i78GDpP-A"
      },
      "source": [
        "### Batching and loading as tensor"
      ]
    },
    {
      "cell_type": "code",
      "metadata": {
        "id": "wI_LDIC1pP-A"
      },
      "source": [
        "import torch\n",
        "from torch.utils.data import TensorDataset, DataLoader\n",
        "\n",
        "# create Tensor datasets\n",
        "train_data = TensorDataset(torch.from_numpy(X_train_pad), torch.from_numpy(y_train))\n",
        "test_data = TensorDataset(torch.from_numpy(X_test_pad), torch.from_numpy(y_test))\n",
        "\n",
        "# dataloaders\n",
        "batch_size = 50\n",
        "\n",
        "# make sure to SHUFFLE your data\n",
        "train_loader = DataLoader(train_data, shuffle=True, batch_size=batch_size)\n",
        "test_loader = DataLoader(test_data, shuffle=True, batch_size=batch_size)"
      ],
      "execution_count": 20,
      "outputs": []
    },
    {
      "cell_type": "code",
      "metadata": {
        "colab": {
          "base_uri": "https://localhost:8080/"
        },
        "id": "MkqbeHEupP-A",
        "outputId": "dcc904dd-a1bb-445d-e309-8d18a9758c4c"
      },
      "source": [
        "# obtain one batch of training data\n",
        "dataiter = iter(train_loader)\n",
        "sample_X, sample_y = dataiter.next()\n",
        "\n",
        "print('Tensor size: ', sample_X.size()) # batch_size, seq_length\n",
        "print('Reviews: \\n', sample_X)\n",
        "print('Sentiments: \\n', sample_y)"
      ],
      "execution_count": 21,
      "outputs": [
        {
          "output_type": "stream",
          "text": [
            "Tensor size:  torch.Size([50, 800])\n",
            "Reviews: \n",
            " tensor([[  0,   0,   0,  ...,  60,   2, 544],\n",
            "        [  0,   0,   0,  ..., 127,   3, 127],\n",
            "        [  0,   0,   0,  ...,  10, 399,   4],\n",
            "        ...,\n",
            "        [  0,   0,   0,  ..., 661,  10,  17],\n",
            "        [  0,   0,   0,  ...,   4,  10,  17],\n",
            "        [  0,   0,   0,  ...,  31,   7,  31]])\n",
            "Sentiments: \n",
            " tensor([0, 1, 0, 0, 0, 1, 0, 1, 1, 1, 0, 1, 0, 1, 0, 1, 1, 0, 0, 0, 1, 1, 0, 1,\n",
            "        1, 1, 0, 0, 0, 1, 1, 1, 1, 1, 0, 1, 1, 0, 1, 0, 1, 0, 0, 1, 1, 1, 1, 1,\n",
            "        0, 1])\n"
          ],
          "name": "stdout"
        }
      ]
    },
    {
      "cell_type": "markdown",
      "metadata": {
        "id": "UBk6ec-opP-B"
      },
      "source": [
        "### Model Designing"
      ]
    },
    {
      "cell_type": "code",
      "metadata": {
        "id": "Ehe0bMLcrBwq"
      },
      "source": [
        "from torch import nn\r\n",
        "\r\n",
        "class SentimentLSTM(nn.Module):\r\n",
        "    \r\n",
        "    def __init__(self, n_vocab, n_embed, n_hidden, n_output, n_layers, drop_p = 0.5):\r\n",
        "        super().__init__()\r\n",
        "        # params: \"n_\" means dimension\r\n",
        "        self.n_vocab = n_vocab     # number of unique words in vocabulary\r\n",
        "        self.n_layers = n_layers   # number of LSTM layers \r\n",
        "        self.n_hidden = n_hidden   # number of hidden nodes in LSTM\r\n",
        "        \r\n",
        "        self.embedding = nn.Embedding(n_vocab, n_embed)\r\n",
        "        self.lstm = nn.LSTM(n_embed, n_hidden, n_layers, batch_first = True, dropout = drop_p)\r\n",
        "        self.dropout = nn.Dropout(drop_p)\r\n",
        "        self.fc = nn.Linear(n_hidden, n_output)\r\n",
        "        self.sigmoid = nn.Sigmoid()\r\n",
        "        \r\n",
        "        \r\n",
        "    def forward (self, input_words, h):\r\n",
        "        batch_size = input_words.size(0)                          # INPUT   :  (batch_size, seq_length)\r\n",
        "        embedded_words = self.embedding(input_words)    # (batch_size, seq_length, n_embed)\r\n",
        "        lstm_out, h = self.lstm(embedded_words)         # (batch_size, seq_length, n_hidden)\r\n",
        "        lstm_out = self.dropout(lstm_out)\r\n",
        "        lstm_out = lstm_out.contiguous().view(-1, self.n_hidden) # (batch_size*seq_length, n_hidden)\r\n",
        "        fc_out = self.fc(lstm_out)                      # (batch_size*seq_length, n_output)\r\n",
        "        sigmoid_out = self.sigmoid(fc_out)              # (batch_size*seq_length, n_output)\r\n",
        "        sigmoid_out = sigmoid_out.view(batch_size, -1)  # (batch_size, seq_length*n_output)\r\n",
        "        \r\n",
        "        # extract the output of ONLY the LAST output of the LAST element of the sequence\r\n",
        "        sigmoid_last = sigmoid_out[:, -1]               # (batch_size, 1)\r\n",
        "        \r\n",
        "        return sigmoid_last, h\r\n",
        "    \r\n",
        "    \r\n",
        "    def init_hidden (self, batch_size):  # initialize hidden weights (h,c) to 0\r\n",
        "        \r\n",
        "        device = \"cuda\" if torch.cuda.is_available() else \"cpu\"\r\n",
        "        weights = next(self.parameters()).data\r\n",
        "        h = (weights.new(self.n_layers, batch_size, self.n_hidden).zero_().to(device),\r\n",
        "             weights.new(self.n_layers, batch_size, self.n_hidden).zero_().to(device))\r\n",
        "        \r\n",
        "        return h"
      ],
      "execution_count": 22,
      "outputs": []
    },
    {
      "cell_type": "code",
      "metadata": {
        "colab": {
          "base_uri": "https://localhost:8080/"
        },
        "id": "1brYFNLXrWpK",
        "outputId": "e37b28b8-64a9-4ce8-829f-ddb04ced1af6"
      },
      "source": [
        "n_vocab = len(vocab)+1\r\n",
        "n_embed = 100\r\n",
        "n_hidden = 32\r\n",
        "n_output = 1   # 1 (\"positive\") or 0 (\"negative\")\r\n",
        "n_layers = 2\r\n",
        "\r\n",
        "net = SentimentLSTM(n_vocab, n_embed, n_hidden, n_output, n_layers)\r\n",
        "print(net)"
      ],
      "execution_count": 24,
      "outputs": [
        {
          "output_type": "stream",
          "text": [
            "SentimentLSTM(\n",
            "  (embedding): Embedding(1001, 100)\n",
            "  (lstm): LSTM(100, 32, num_layers=2, batch_first=True, dropout=0.5)\n",
            "  (dropout): Dropout(p=0.5, inplace=False)\n",
            "  (fc): Linear(in_features=32, out_features=1, bias=True)\n",
            "  (sigmoid): Sigmoid()\n",
            ")\n"
          ],
          "name": "stdout"
        }
      ]
    },
    {
      "cell_type": "markdown",
      "metadata": {
        "id": "Yepm4tnrpP-C"
      },
      "source": [
        "### Training"
      ]
    },
    {
      "cell_type": "code",
      "metadata": {
        "colab": {
          "base_uri": "https://localhost:8080/"
        },
        "id": "po02A9WUrvgp",
        "outputId": "8ad2dfd5-ad4d-4354-c399-4db988f88de4"
      },
      "source": [
        "criterion = nn.BCELoss()\r\n",
        "optimizer = torch.optim.Adam(net.parameters(), lr = 0.05)\r\n",
        "\r\n",
        "\r\n",
        "print_every = 50\r\n",
        "step = 0\r\n",
        "n_epochs = 5\r\n",
        "clip = 5  \r\n",
        "device = 'cuda' if torch.cuda.is_available() else 'cpu'\r\n",
        "train_loss=[]\r\n",
        "train_acc=[]\r\n",
        "\r\n",
        "def acc(pred,label):\r\n",
        "    pred = torch.round(pred.squeeze())\r\n",
        "    return torch.sum(pred == label.squeeze()).item()\r\n",
        "\r\n",
        "for epoch in range(n_epochs):\r\n",
        "    h = net.init_hidden(batch_size)\r\n",
        "    for inputs, labels in train_loader:\r\n",
        "        step += 1\r\n",
        "        inputs, labels = inputs.to(device), labels.to(device)\r\n",
        "        \r\n",
        "        # making requires_grad = False for the latest set of h\r\n",
        "        h = tuple([each.data for each in h])   \r\n",
        "        \r\n",
        "        net.zero_grad()\r\n",
        "        output, h = net(inputs, h)\r\n",
        "\r\n",
        "\r\n",
        "        loss = criterion(output.squeeze(), labels.float())\r\n",
        "        loss.backward()\r\n",
        "        accuracy = acc(output,labels)\r\n",
        "\r\n",
        "        nn.utils.clip_grad_norm(net.parameters(), clip)\r\n",
        "        optimizer.step()\r\n",
        "\r\n",
        "        \r\n",
        "        if (step % print_every) == 0:\r\n",
        "          lossval=loss.item()\r\n",
        "          accval=accuracy         \r\n",
        "\r\n",
        "          print(\"Epoch: {}/{}\".format((epoch+1), n_epochs),\r\n",
        "                \"Step: {}\".format(step),\r\n",
        "                \"Loss: {:.4f}\".format(lossval),\r\n",
        "                \"Accuracy: {:.4f}\".format(accval/batch_size)\r\n",
        "                )\r\n",
        "\r\n",
        "          train_loss.append(lossval)\r\n",
        "          train_acc.append(accval)\r\n",
        "\r\n",
        "          net.train()"
      ],
      "execution_count": 56,
      "outputs": [
        {
          "output_type": "stream",
          "text": [
            "/usr/local/lib/python3.7/dist-packages/ipykernel_launcher.py:34: UserWarning: torch.nn.utils.clip_grad_norm is now deprecated in favor of torch.nn.utils.clip_grad_norm_.\n"
          ],
          "name": "stderr"
        },
        {
          "output_type": "stream",
          "text": [
            "Epoch: 1/5 Step: 50 Loss: 0.6967 Accuracy: 0.5400\n",
            "Epoch: 1/5 Step: 100 Loss: 0.6934 Accuracy: 0.5800\n",
            "Epoch: 1/5 Step: 150 Loss: 0.7022 Accuracy: 0.4800\n",
            "Epoch: 1/5 Step: 200 Loss: 0.6986 Accuracy: 0.4600\n",
            "Epoch: 1/5 Step: 250 Loss: 0.6970 Accuracy: 0.3800\n",
            "Epoch: 1/5 Step: 300 Loss: 0.6965 Accuracy: 0.5000\n",
            "Epoch: 1/5 Step: 350 Loss: 0.6776 Accuracy: 0.5800\n",
            "Epoch: 1/5 Step: 400 Loss: 0.6848 Accuracy: 0.5400\n",
            "Epoch: 1/5 Step: 450 Loss: 0.7010 Accuracy: 0.5000\n",
            "Epoch: 1/5 Step: 500 Loss: 0.7035 Accuracy: 0.4800\n",
            "Epoch: 1/5 Step: 550 Loss: 0.6940 Accuracy: 0.4000\n",
            "Epoch: 1/5 Step: 600 Loss: 0.6859 Accuracy: 0.5200\n",
            "Epoch: 1/5 Step: 650 Loss: 0.7226 Accuracy: 0.4800\n",
            "Epoch: 1/5 Step: 700 Loss: 0.6947 Accuracy: 0.5000\n",
            "Epoch: 1/5 Step: 750 Loss: 0.6958 Accuracy: 0.5000\n",
            "Epoch: 2/5 Step: 800 Loss: 0.6973 Accuracy: 0.5400\n",
            "Epoch: 2/5 Step: 850 Loss: 0.6994 Accuracy: 0.4800\n",
            "Epoch: 2/5 Step: 900 Loss: 0.6856 Accuracy: 0.4800\n",
            "Epoch: 2/5 Step: 950 Loss: 0.6857 Accuracy: 0.5800\n",
            "Epoch: 2/5 Step: 1000 Loss: 0.6870 Accuracy: 0.5200\n",
            "Epoch: 2/5 Step: 1050 Loss: 0.6900 Accuracy: 0.4800\n",
            "Epoch: 2/5 Step: 1100 Loss: 0.6956 Accuracy: 0.5400\n",
            "Epoch: 2/5 Step: 1150 Loss: 0.6892 Accuracy: 0.6200\n",
            "Epoch: 2/5 Step: 1200 Loss: 0.6980 Accuracy: 0.4600\n",
            "Epoch: 2/5 Step: 1250 Loss: 0.6770 Accuracy: 0.5400\n",
            "Epoch: 2/5 Step: 1300 Loss: 0.7037 Accuracy: 0.4800\n",
            "Epoch: 2/5 Step: 1350 Loss: 0.6796 Accuracy: 0.5600\n",
            "Epoch: 2/5 Step: 1400 Loss: 0.6920 Accuracy: 0.4200\n",
            "Epoch: 2/5 Step: 1450 Loss: 0.6946 Accuracy: 0.4800\n",
            "Epoch: 2/5 Step: 1500 Loss: 0.7030 Accuracy: 0.4800\n",
            "Epoch: 3/5 Step: 1550 Loss: 0.6769 Accuracy: 0.5600\n",
            "Epoch: 3/5 Step: 1600 Loss: 0.7059 Accuracy: 0.4800\n",
            "Epoch: 3/5 Step: 1650 Loss: 0.6938 Accuracy: 0.5400\n",
            "Epoch: 3/5 Step: 1700 Loss: 0.6834 Accuracy: 0.6000\n",
            "Epoch: 3/5 Step: 1750 Loss: 0.6965 Accuracy: 0.4400\n",
            "Epoch: 3/5 Step: 1800 Loss: 0.6932 Accuracy: 0.5400\n",
            "Epoch: 3/5 Step: 1850 Loss: 0.6917 Accuracy: 0.4600\n",
            "Epoch: 3/5 Step: 1900 Loss: 0.6935 Accuracy: 0.4800\n",
            "Epoch: 3/5 Step: 1950 Loss: 0.6911 Accuracy: 0.5000\n",
            "Epoch: 3/5 Step: 2000 Loss: 0.7316 Accuracy: 0.3400\n",
            "Epoch: 3/5 Step: 2050 Loss: 0.6994 Accuracy: 0.4600\n",
            "Epoch: 3/5 Step: 2100 Loss: 0.7098 Accuracy: 0.4200\n",
            "Epoch: 3/5 Step: 2150 Loss: 0.6882 Accuracy: 0.5800\n",
            "Epoch: 3/5 Step: 2200 Loss: 0.6965 Accuracy: 0.5000\n",
            "Epoch: 3/5 Step: 2250 Loss: 0.6930 Accuracy: 0.4800\n",
            "Epoch: 4/5 Step: 2300 Loss: 0.6988 Accuracy: 0.4200\n",
            "Epoch: 4/5 Step: 2350 Loss: 0.6917 Accuracy: 0.4600\n",
            "Epoch: 4/5 Step: 2400 Loss: 0.6859 Accuracy: 0.5400\n",
            "Epoch: 4/5 Step: 2450 Loss: 0.6936 Accuracy: 0.4000\n",
            "Epoch: 4/5 Step: 2500 Loss: 0.6993 Accuracy: 0.5400\n",
            "Epoch: 4/5 Step: 2550 Loss: 0.6926 Accuracy: 0.5000\n",
            "Epoch: 4/5 Step: 2600 Loss: 0.6893 Accuracy: 0.6000\n",
            "Epoch: 4/5 Step: 2650 Loss: 0.6812 Accuracy: 0.6000\n",
            "Epoch: 4/5 Step: 2700 Loss: 0.6936 Accuracy: 0.6000\n",
            "Epoch: 4/5 Step: 2750 Loss: 0.6804 Accuracy: 0.5000\n",
            "Epoch: 4/5 Step: 2800 Loss: 0.7024 Accuracy: 0.5000\n",
            "Epoch: 4/5 Step: 2850 Loss: 0.7001 Accuracy: 0.5000\n",
            "Epoch: 4/5 Step: 2900 Loss: 0.6979 Accuracy: 0.4200\n",
            "Epoch: 4/5 Step: 2950 Loss: 0.7032 Accuracy: 0.4000\n",
            "Epoch: 4/5 Step: 3000 Loss: 0.6980 Accuracy: 0.4600\n",
            "Epoch: 5/5 Step: 3050 Loss: 0.6976 Accuracy: 0.4400\n",
            "Epoch: 5/5 Step: 3100 Loss: 0.6869 Accuracy: 0.5800\n",
            "Epoch: 5/5 Step: 3150 Loss: 0.7023 Accuracy: 0.4600\n",
            "Epoch: 5/5 Step: 3200 Loss: 0.6820 Accuracy: 0.6400\n",
            "Epoch: 5/5 Step: 3250 Loss: 0.6963 Accuracy: 0.4200\n",
            "Epoch: 5/5 Step: 3300 Loss: 0.6882 Accuracy: 0.5000\n",
            "Epoch: 5/5 Step: 3350 Loss: 0.6899 Accuracy: 0.6600\n",
            "Epoch: 5/5 Step: 3400 Loss: 0.6967 Accuracy: 0.4600\n",
            "Epoch: 5/5 Step: 3450 Loss: 0.6878 Accuracy: 0.6200\n",
            "Epoch: 5/5 Step: 3500 Loss: 0.6906 Accuracy: 0.5400\n",
            "Epoch: 5/5 Step: 3550 Loss: 0.6937 Accuracy: 0.6000\n",
            "Epoch: 5/5 Step: 3600 Loss: 0.6883 Accuracy: 0.5200\n",
            "Epoch: 5/5 Step: 3650 Loss: 0.6899 Accuracy: 0.5600\n",
            "Epoch: 5/5 Step: 3700 Loss: 0.6810 Accuracy: 0.6000\n",
            "Epoch: 5/5 Step: 3750 Loss: 0.6996 Accuracy: 0.4200\n"
          ],
          "name": "stdout"
        }
      ]
    },
    {
      "cell_type": "code",
      "metadata": {
        "id": "J82wUxfxKofa"
      },
      "source": [
        "torch.save(net.state_dict(), \"net_params.pt\")"
      ],
      "execution_count": 57,
      "outputs": []
    },
    {
      "cell_type": "code",
      "metadata": {
        "id": "rYfsQAooMCHk"
      },
      "source": [
        "epoch_loss=[]\r\n",
        "temp=[]\r\n",
        "for i in range(0,len(train_loss)):\r\n",
        "  temp.append(train_loss[i])\r\n",
        "  i +=1\r\n",
        "  if (i % (len(train_loss)/n_epochs)==0):\r\n",
        "    epoch_loss.append(np.mean(temp))\r\n",
        "    temp=[]\r\n",
        "\r\n",
        "epoch_acc=[]\r\n",
        "temp=[]\r\n",
        "for i in range(0,len(train_acc)):\r\n",
        "  temp.append(train_acc[i]/batch_size)\r\n",
        "  i +=1\r\n",
        "  if (i % (len(train_acc)/n_epochs)==0):\r\n",
        "    epoch_acc.append(np.mean(temp))\r\n",
        "    temp=[]"
      ],
      "execution_count": 61,
      "outputs": []
    },
    {
      "cell_type": "code",
      "metadata": {
        "colab": {
          "base_uri": "https://localhost:8080/"
        },
        "id": "XBMX-APzNZae",
        "outputId": "4ed9150b-f519-4874-ae17-692c93e131d1"
      },
      "source": [
        "epoch_loss, epoch_acc"
      ],
      "execution_count": 62,
      "outputs": [
        {
          "output_type": "execute_result",
          "data": {
            "text/plain": [
              "([0.6962920427322388,\n",
              "  0.6918370922406515,\n",
              "  0.6963067690531413,\n",
              "  0.6938766876856486,\n",
              "  0.6913828253746033],\n",
              " [0.4960000000000001,\n",
              "  0.5106666666666668,\n",
              "  0.49199999999999994,\n",
              "  0.49600000000000005,\n",
              "  0.5346666666666666])"
            ]
          },
          "metadata": {
            "tags": []
          },
          "execution_count": 62
        }
      ]
    },
    {
      "cell_type": "code",
      "metadata": {
        "colab": {
          "base_uri": "https://localhost:8080/",
          "height": 393
        },
        "id": "uI9KNJTbpP-D",
        "outputId": "58920e05-7e30-4493-d6a1-73516559fd41"
      },
      "source": [
        "fig = plt.figure(figsize = (20, 6))\n",
        "plt.subplot(1, 2, 1)\n",
        "#plt.plot(train_acc, label='Train Acc')\n",
        "plt.plot(epoch_acc, label='Train Acc')\n",
        "plt.title(\"Accuracy\")\n",
        "plt.legend()\n",
        "    \n",
        "plt.subplot(1, 2, 2)\n",
        "#plt.plot(train_loss, label='Train loss')\n",
        "plt.plot(epoch_loss, label='Train loss')\n",
        "plt.title(\"Loss\")\n",
        "plt.legend()\n",
        "\n",
        "plt.show()"
      ],
      "execution_count": 66,
      "outputs": [
        {
          "output_type": "display_data",
          "data": {
            "image/png": "[encoded data removed]",
            "text/plain": [
              "<Figure size 1440x432 with 2 Axes>"
            ]
          },
          "metadata": {
            "tags": []
          }
        }
      ]
    },
    {
      "cell_type": "markdown",
      "metadata": {
        "id": "wduj4Yy0pP-E"
      },
      "source": [
        "### Test Accuracy and Loss"
      ]
    },
    {
      "cell_type": "code",
      "metadata": {
        "colab": {
          "base_uri": "https://localhost:8080/"
        },
        "id": "chNJFA3mahiO",
        "outputId": "ed29e882-6fd9-4dec-826f-807f8984fdd3"
      },
      "source": [
        "net.eval()\r\n",
        "test_losses = []\r\n",
        "num_correct = 0\r\n",
        "test_h = net.init_hidden(batch_size)\r\n",
        "\r\n",
        "for test_inputs, test_labels in test_loader:\r\n",
        "    \r\n",
        "    test_inputs, test_labels = test_inputs.to(device), test_labels.to(device)\r\n",
        "    test_h = tuple([each.data for each in test_h])\r\n",
        "\r\n",
        "    test_output, test_h = net(test_inputs, test_h)\r\n",
        "    test_loss = criterion(test_output.squeeze(), test_labels.float())\r\n",
        "    test_losses.append(test_loss.item())\r\n",
        "    \r\n",
        "    preds = torch.round(test_output.squeeze())\r\n",
        "    correct_tensor = preds.eq(labels.float().view_as(preds))\r\n",
        "    correct = np.squeeze(correct_tensor.numpy())\r\n",
        "    num_correct += np.sum(correct)\r\n",
        "    \r\n",
        "print(\"Test Loss: {:.4f}\".format(np.mean(test_losses)))\r\n",
        "print(\"Test Accuracy: {:.2f}\".format(num_correct/len(test_loader.dataset)))"
      ],
      "execution_count": 67,
      "outputs": [
        {
          "output_type": "stream",
          "text": [
            "Test Loss: 0.6932\n",
            "Test Accuracy: 0.62\n"
          ],
          "name": "stdout"
        }
      ]
    },
    {
      "cell_type": "markdown",
      "metadata": {
        "id": "KQa8WlP-bUDZ"
      },
      "source": [
        "### Prediction & Inference"
      ]
    },
    {
      "cell_type": "code",
      "metadata": {
        "id": "Gl26hxrjpP-E"
      },
      "source": [
        "def predict_text(text):\n",
        "        word_seq = np.array([vocab[preprocess_string(word)] for word in text.split() \n",
        "                         if preprocess_string(word) in vocab.keys()])\n",
        "        word_seq = np.expand_dims(word_seq,axis=0)\n",
        "        pad =  torch.from_numpy(padding(word_seq,500))\n",
        "        inputs = pad.to(device)\n",
        "        batch_size = 1\n",
        "        h = net.init_hidden(batch_size)\n",
        "        h = tuple([each.data for each in h])\n",
        "        output, h = net(inputs, h)\n",
        "        return(output.item())"
      ],
      "execution_count": 29,
      "outputs": []
    },
    {
      "cell_type": "code",
      "metadata": {
        "id": "SOQ5peTBbu1y"
      },
      "source": [
        "def results(df, index):\r\n",
        "  sentiment=df.sentiment[index]\r\n",
        "  review=df.review[index]\r\n",
        "  prob=predict_text(review)\r\n",
        "  prediction = \"positive\" if pro > 0.5 else \"negative\"\r\n",
        "  print(\"Review:\\n\",review)\r\n",
        "  print(\"Actual Sentiment:\", sentiment)\r\n",
        "  print(\"Predicted Sentiment:\", prediction)"
      ],
      "execution_count": 77,
      "outputs": []
    },
    {
      "cell_type": "code",
      "metadata": {
        "colab": {
          "base_uri": "https://localhost:8080/"
        },
        "id": "ayINuAq5d3nz",
        "outputId": "63ab8b58-76d6-4f1c-e288-5dffdfa1ad7d"
      },
      "source": [
        "random=np.random.randint(0, 50001)\r\n",
        "results(df, random)"
      ],
      "execution_count": 87,
      "outputs": [
        {
          "output_type": "stream",
          "text": [
            "Review:\n",
            " Yes, I felt like I had been gutted after first seeing it. But not until the next day did I begin to see the true brilliance of this creation. I won't repeat much of what has already been said by those who appreciate the film, but there is one new area I want to touch on... **SPOILERS** Why exactly did the teacher put the broken glass in the student's pocket? Most reviewers have noted that it only reflected her cruelty and reaction to an unsatisfactory performance. I must disagree. Watch the scene again. Huppert is moved to tears as she watches her student playing on stage. The student is quite an expressive girl (crying & vocalizing her fears)- just the opposite of Huppert's character. There is a scene later in the film, after the girl is injured, when Huppert discusses the accident with the girl's mother. The mother, visibly upset, states \"We gave up everything so she could study piano\" and Huppert immediately snaps \"You mean SHE gave up everything, don't you.\"<br /><br />So it was my thought that Huppert was simply saving this young expressive student from her own destiny. She didn't want the girl to end up like HER, repressed & hardened, condemned to a life of recitals...gradually killing the soul in the pursuit of perfection. Maybe she saw herself on the stage years ago, before things grew bad. Maybe she wished she had escaped when she was that age. Is she ruining the student's life, or simply freeing her?<br /><br />For me, that realization made all the difference in what I experienced through this film. Brilliant.\n",
            "Actual Sentiment: positive\n",
            "Predicted Sentiment: positive\n"
          ],
          "name": "stdout"
        }
      ]
    },
    {
      "cell_type": "code",
      "metadata": {
        "colab": {
          "base_uri": "https://localhost:8080/"
        },
        "id": "WDywWOHef2We",
        "outputId": "b3e36ab7-6ca2-4b9f-9bc2-9e755de1a1a8"
      },
      "source": [
        "random=np.random.randint(0, 50001)\r\n",
        "results(df, random)"
      ],
      "execution_count": 92,
      "outputs": [
        {
          "output_type": "stream",
          "text": [
            "Review:\n",
            " After being hugely entertained by Mr. Brosnan's performance as a cad in \"The Tailor of Panama\" (which I rate 10/10 across the board: casting, acting, script, story, editing, pace, music, emotional impact, etc.), I enthusiastically anticipated this film. I was hugely disappointed. It is a script reading not a film, vulgar for the sake of being vulgar, bankrupt in every way that \"The Tailor of Panama\" is rich and satisfying. Blame it on the screen writing and directing. I sat in the theater waiting for the \"good part;\" it never came. I neither laughed nor cried, although one line of dialog did make me smile. Worth $7? Hardly.\n",
            "Actual Sentiment: negative\n",
            "Predicted Sentiment: positive\n"
          ],
          "name": "stdout"
        }
      ]
    }
  ]
}